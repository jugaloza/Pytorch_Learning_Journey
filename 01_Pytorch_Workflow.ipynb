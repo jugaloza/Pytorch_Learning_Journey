{
  "nbformat": 4,
  "nbformat_minor": 0,
  "metadata": {
    "colab": {
      "name": "01_Pytorch_Workflow.ipynb",
      "provenance": [],
      "collapsed_sections": [],
      "toc_visible": true
    },
    "kernelspec": {
      "name": "python3",
      "display_name": "Python 3"
    },
    "language_info": {
      "name": "python"
    },
    "gpuClass": "standard",
    "accelerator": "GPU"
  },
  "cells": [
    {
      "cell_type": "markdown",
      "source": [
        "# Pytorch Workflow\n",
        "\n",
        "Let's explore example of an end-to-end pytorch workflow"
      ],
      "metadata": {
        "id": "pscIy80fkyyq"
      }
    },
    {
      "cell_type": "code",
      "execution_count": 1,
      "metadata": {
        "colab": {
          "base_uri": "https://localhost:8080/"
        },
        "id": "6_fH01o5jxNj",
        "outputId": "62418876-3a25-4d74-bbd6-2e5d191aacef"
      },
      "outputs": [
        {
          "output_type": "execute_result",
          "data": {
            "text/plain": [
              "{1: 'data prepare and load',\n",
              " 2: 'build model',\n",
              " 3: 'fitting the model to data(training)',\n",
              " 4: 'making predictions and evaluating a model(inference)',\n",
              " 5: 'saving and loading a model',\n",
              " 6: 'putting it all together'}"
            ]
          },
          "metadata": {},
          "execution_count": 1
        }
      ],
      "source": [
        "topics_covered = {1: \"data prepare and load\",\n",
        "                  2: \"build model\",\n",
        "                  3: \"fitting the model to data(training)\",\n",
        "                  4: \"making predictions and evaluating a model(inference)\",\n",
        "                  5: \"saving and loading a model\",\n",
        "                  6: \"putting it all together\"}\n",
        "\n",
        "topics_covered"
      ]
    },
    {
      "cell_type": "code",
      "source": [
        "import torch\n",
        "from torch import nn\n",
        "import matplotlib.pyplot as plt\n",
        "\n",
        "torch.__version__"
      ],
      "metadata": {
        "colab": {
          "base_uri": "https://localhost:8080/",
          "height": 36
        },
        "id": "hO2RtVzgmOo4",
        "outputId": "20a11cc9-9f94-4512-9073-734617baf17b"
      },
      "execution_count": 1,
      "outputs": [
        {
          "output_type": "execute_result",
          "data": {
            "text/plain": [
              "'1.12.1+cu113'"
            ],
            "application/vnd.google.colaboratory.intrinsic+json": {
              "type": "string"
            }
          },
          "metadata": {},
          "execution_count": 1
        }
      ]
    },
    {
      "cell_type": "markdown",
      "source": [
        "## 1. Data Preparing and Loading ##\n",
        "\n",
        "Data can be anything\n",
        "\n",
        "* Excel sheets\n",
        "* Images\n",
        "* VIdeos\n",
        "* Audio\n",
        "* DNA\n",
        "* Text\n",
        "\n",
        "Machine learning is a game of two parts:\n",
        "\n",
        "1. Convert  data to numerical representation\n",
        "2. Build a model to learn the patterns in numerical representation\n",
        "\n",
        "To showcase this, let's create and prepare some data\n",
        "\n",
        "We will use a linear regression formula to make a straight line with known parameter."
      ],
      "metadata": {
        "id": "G89LU5pAmxcp"
      }
    },
    {
      "cell_type": "code",
      "source": [
        "# create known parameter\n",
        "\n",
        "weight = 0.9\n",
        "bias = 0.3\n",
        "\n",
        "# create\n",
        "start = 0\n",
        "end = 1\n",
        "step = 0.02\n",
        "X = torch.arange(start,end,step).unsqueeze(dim=1) \n",
        "\n",
        "y = X * weight + bias\n",
        "\n",
        "X[:10],y[:10]"
      ],
      "metadata": {
        "colab": {
          "base_uri": "https://localhost:8080/"
        },
        "id": "fdUf5_sVnpNn",
        "outputId": "4e705702-b465-498c-8a87-bc84bd5b9656"
      },
      "execution_count": 3,
      "outputs": [
        {
          "output_type": "execute_result",
          "data": {
            "text/plain": [
              "(tensor([[0.0000],\n",
              "         [0.0200],\n",
              "         [0.0400],\n",
              "         [0.0600],\n",
              "         [0.0800],\n",
              "         [0.1000],\n",
              "         [0.1200],\n",
              "         [0.1400],\n",
              "         [0.1600],\n",
              "         [0.1800]]), tensor([[0.3000],\n",
              "         [0.3180],\n",
              "         [0.3360],\n",
              "         [0.3540],\n",
              "         [0.3720],\n",
              "         [0.3900],\n",
              "         [0.4080],\n",
              "         [0.4260],\n",
              "         [0.4440],\n",
              "         [0.4620]]))"
            ]
          },
          "metadata": {},
          "execution_count": 3
        }
      ]
    },
    {
      "cell_type": "markdown",
      "source": [
        "### Splitting data into training and test sets\n",
        "\n",
        "Let's create a training and testing set with our data."
      ],
      "metadata": {
        "id": "FuX-Sr-flspk"
      }
    },
    {
      "cell_type": "code",
      "source": [
        "train_split = int(0.8* len(X))\n",
        "X_train,y_train,X_test,y_test = X[:train_split],y[:train_split],X[train_split:],y[train_split:]\n",
        "\n",
        "\n",
        "len(X_train),len(y_train),len(X_test),len(y_test)"
      ],
      "metadata": {
        "colab": {
          "base_uri": "https://localhost:8080/"
        },
        "id": "8VrE7lw4lyNw",
        "outputId": "e364ff83-23b2-4439-b5d9-882ac3f6c655"
      },
      "execution_count": 4,
      "outputs": [
        {
          "output_type": "execute_result",
          "data": {
            "text/plain": [
              "(40, 40, 10, 10)"
            ]
          },
          "metadata": {},
          "execution_count": 4
        }
      ]
    },
    {
      "cell_type": "markdown",
      "source": [
        "How might we better visualize our data\n",
        "\n",
        "This is where data explorer's motto comes in\n",
        "\n",
        "` Visualize Visualize Visualize `"
      ],
      "metadata": {
        "id": "7ZOxnZfanppm"
      }
    },
    {
      "cell_type": "code",
      "source": [
        "def plot_predictions(train_data=X_train,\n",
        "                     train_labels=y_train,\n",
        "                     test_data=X_test,\n",
        "                     test_labels=y_test,\n",
        "                     predictions=None):\n",
        "  \"\"\"\n",
        "  Plot training data, test data and compares predictions.\n",
        "  \"\"\"\n",
        "\n",
        "  plt.figure(figsize=(10,7))\n",
        "\n",
        "  # plot training data\n",
        "\n",
        "  plt.scatter(train_data,train_labels,c=\"b\",s=4,label=\"Training data\")\n",
        "\n",
        "  # plot test data\n",
        "\n",
        "  plt.scatter(test_data,test_labels,c=\"g\",s=4,label=\"Test data\")\n",
        "\n",
        "  # Are there predictions?\n",
        "  if predictions is not None:\n",
        "    plt.scatter(test_data,predictions,c=\"r\",s=4,label=\"predictions\")\n",
        "  \n",
        "  # show the legend\n",
        "  plt.legend(prop={\"size\" : 14})\n",
        "  "
      ],
      "metadata": {
        "id": "CPNyGES3n1ye"
      },
      "execution_count": 13,
      "outputs": []
    },
    {
      "cell_type": "code",
      "source": [
        "plot_predictions()"
      ],
      "metadata": {
        "colab": {
          "base_uri": "https://localhost:8080/",
          "height": 428
        },
        "id": "HLp4XTd8pR1i",
        "outputId": "b303e3fa-e0b7-43a3-fd12-129b5c2e004f"
      },
      "execution_count": 8,
      "outputs": [
        {
          "output_type": "display_data",
          "data": {
            "text/plain": [
              "<Figure size 720x504 with 1 Axes>"
            ],
            "image/png": "[encoded data removed]"
          },
          "metadata": {
            "needs_background": "light"
          }
        }
      ]
    },
    {
      "cell_type": "markdown",
      "source": [
        "## 2. Building model ##\n",
        "\n",
        "First Pytorch model\n",
        "\n",
        "What our model does:\n",
        "\n",
        "* Start with random values\n",
        "* Look at training data and adjust the random values to better represent the ideal values.\n",
        "\n",
        "How does it do so?\n",
        "\n",
        "Through two main algorithms:\n",
        "\n",
        "1. Gradient Descent\n",
        "2. Backpropagation"
      ],
      "metadata": {
        "id": "D_tofireqAGc"
      }
    },
    {
      "cell_type": "code",
      "source": [
        "# Create a linear regression Model\n",
        "class LinearRegressionModel(nn.Module):\n",
        "  def __init__(self):\n",
        "    super(LinearRegressionModel,self).__init__()\n",
        "    self.weights = nn.Parameter(torch.rand(1,\n",
        "                                           dtype=torch.float32))\n",
        "    self.bias = nn.Parameter(torch.rand(1,dtype=torch.float32))\n",
        "\n",
        "\n",
        "  def forward(self,x : torch.Tensor) -> torch.Tensor:\n",
        "    return self.weights * x + self.bias\n",
        "\n",
        "  "
      ],
      "metadata": {
        "id": "-qEDTwoUqCqR"
      },
      "execution_count": 68,
      "outputs": []
    },
    {
      "cell_type": "markdown",
      "source": [
        "### Pytorch Model building essentials ###\n",
        "\n",
        "* torch.nn -  contains all of the buildings for computational grapsh (another word of neural networks)\n",
        "* torch.nn.Parameter - what parameters should a model try and learn\n",
        "* torch.nn.Module -  The base class for all neural network modules, if you subclass it, you should override forward() method.\n",
        "* torch.optim - this is where the optimizers live, they will help the gradient descent.\n",
        "* def forward() - all nn.Module subclasses, require you to override forward(), this method defines what will happen in forward pass."
      ],
      "metadata": {
        "id": "HLP6qiICyKMs"
      }
    },
    {
      "cell_type": "markdown",
      "source": [
        "### Checking the contents of pytorch model\n",
        "\n",
        "Now, we have created a model, lets see what we have inside the model.\n",
        "\n",
        "So, we can check our model parameters using `.parameters()`"
      ],
      "metadata": {
        "id": "V9SqxIeX0HEv"
      }
    },
    {
      "cell_type": "code",
      "source": [
        "# create a random seed\n",
        "#torch.manual_seed(42)\n",
        "\n",
        "# Create an instance of the model\n",
        "model_0 = LinearRegressionModel()\n",
        "\n",
        "list(model_0.parameters())"
      ],
      "metadata": {
        "colab": {
          "base_uri": "https://localhost:8080/"
        },
        "id": "hNjR3N3y0avp",
        "outputId": "c99271b9-5a55-419b-f3fb-d8451840e44d"
      },
      "execution_count": 87,
      "outputs": [
        {
          "output_type": "execute_result",
          "data": {
            "text/plain": [
              "[Parameter containing:\n",
              " tensor([0.8823], requires_grad=True), Parameter containing:\n",
              " tensor([0.9150], requires_grad=True)]"
            ]
          },
          "metadata": {},
          "execution_count": 87
        }
      ]
    },
    {
      "cell_type": "code",
      "source": [
        "# list named parameters\n",
        "model_0.state_dict()\n"
      ],
      "metadata": {
        "colab": {
          "base_uri": "https://localhost:8080/"
        },
        "id": "PgQ3K93I1bmV",
        "outputId": "5c4ace46-4425-4a59-de8e-a863d9bd9637"
      },
      "execution_count": 70,
      "outputs": [
        {
          "output_type": "execute_result",
          "data": {
            "text/plain": [
              "OrderedDict([('weights', tensor([0.8823])), ('bias', tensor([0.9150]))])"
            ]
          },
          "metadata": {},
          "execution_count": 70
        }
      ]
    },
    {
      "cell_type": "markdown",
      "source": [
        "### Make prediction using torch.inference_mode ###\n"
      ],
      "metadata": {
        "id": "-8w0BKBz3TDL"
      }
    },
    {
      "cell_type": "code",
      "source": [
        "with torch.inference_mode():\n",
        "  y_pred = model_0(X_test)\n",
        "\n",
        "y_pred"
      ],
      "metadata": {
        "colab": {
          "base_uri": "https://localhost:8080/"
        },
        "id": "zaWRU6-Q3ad4",
        "outputId": "4792d12c-e149-4ac4-e2bc-cd5f219ea162"
      },
      "execution_count": 71,
      "outputs": [
        {
          "output_type": "execute_result",
          "data": {
            "text/plain": [
              "tensor([[1.6208],\n",
              "        [1.6385],\n",
              "        [1.6561],\n",
              "        [1.6738],\n",
              "        [1.6914],\n",
              "        [1.7090],\n",
              "        [1.7267],\n",
              "        [1.7443],\n",
              "        [1.7620],\n",
              "        [1.7796]])"
            ]
          },
          "metadata": {},
          "execution_count": 71
        }
      ]
    },
    {
      "cell_type": "code",
      "source": [
        "plot_predictions(predictions=y_pred)"
      ],
      "metadata": {
        "colab": {
          "base_uri": "https://localhost:8080/",
          "height": 428
        },
        "id": "UfbEBz_I4ex8",
        "outputId": "c280b73b-dbbe-4453-b18a-2571477e0432"
      },
      "execution_count": 72,
      "outputs": [
        {
          "output_type": "display_data",
          "data": {
            "text/plain": [
              "<Figure size 720x504 with 1 Axes>"
            ],
            "image/png": "[encoded data removed]"
          },
          "metadata": {
            "needs_background": "light"
          }
        }
      ]
    },
    {
      "cell_type": "markdown",
      "source": [
        "## 3. Train Model ##\n",
        "\n",
        "Things we need to train model:\n",
        "\n",
        "1. **Loss Function** : A function to measure how wrong our model's prediction are compared to groundtruth.\n",
        "2. **Optimizer** : Takes into account loss function and update the model's weights\n",
        "\n",
        "And specifically for training in pytorch we need,\n",
        "1. Training loop\n",
        "2. Testing loop"
      ],
      "metadata": {
        "id": "TznAA2gJ6GV2"
      }
    },
    {
      "cell_type": "code",
      "source": [
        "# check out model's parameters\n",
        "list(model_0.parameters())"
      ],
      "metadata": {
        "colab": {
          "base_uri": "https://localhost:8080/"
        },
        "id": "XkX3yB5q6KiS",
        "outputId": "514e08db-28a7-45fe-f162-129e5cfa4e97"
      },
      "execution_count": 59,
      "outputs": [
        {
          "output_type": "execute_result",
          "data": {
            "text/plain": [
              "[Parameter containing:\n",
              " tensor([0.8823], requires_grad=True), Parameter containing:\n",
              " tensor([0.9150], requires_grad=True)]"
            ]
          },
          "metadata": {},
          "execution_count": 59
        }
      ]
    },
    {
      "cell_type": "code",
      "source": [
        "loss_fn = torch.nn.L1Loss()\n",
        "\n",
        "# setup an optimizer(Stochastic Gradient Descent)\n",
        "optim = torch.optim.SGD(model_0.parameters(),lr=0.01) \n"
      ],
      "metadata": {
        "id": "PCWlIaz37I9_"
      },
      "execution_count": 88,
      "outputs": []
    },
    {
      "cell_type": "markdown",
      "source": [
        "### Building a training loop (and a testing loop) in pytorch ###\n",
        "\n",
        "A couple of things we need in a training loop\n",
        "\n",
        "0. Loop through the data\n",
        "1. Forward pass (this involve's data moving through our model's `forward()` functions) - also called forward propagations.\n",
        "2. Calculate the loss\n",
        "3. Optimizer zero grad\n",
        "4. Loss backward - move backwards through the network to calculate the gradients of each of the parameters of our model with  respect to loss\n",
        "5. Optimizer step - use optimizer to update the weights\n"
      ],
      "metadata": {
        "id": "_rKsZ-0q_OwK"
      }
    },
    {
      "cell_type": "code",
      "source": [
        "with torch.inference_mode():\n",
        "  print(list(model_0.parameters()))"
      ],
      "metadata": {
        "colab": {
          "base_uri": "https://localhost:8080/"
        },
        "id": "SNc86K_CBP-W",
        "outputId": "2c413b28-1c4b-454e-8ed9-2ea82026eda7"
      },
      "execution_count": 74,
      "outputs": [
        {
          "output_type": "stream",
          "name": "stdout",
          "text": [
            "[Parameter containing:\n",
            "tensor([0.8823], requires_grad=True), Parameter containing:\n",
            "tensor([0.9150], requires_grad=True)]\n"
          ]
        }
      ]
    },
    {
      "cell_type": "code",
      "source": [
        "torch.manual_seed(42)\n",
        "\n",
        "#  An epoch is one loop through data\n",
        "epochs = 200\n",
        "\n",
        "# Track different values\n",
        "epoch_count = []\n",
        "train_loss_values = []\n",
        "test_loss_values = []\n",
        "\n",
        "### Training\n",
        "# 0. loop through the data\n",
        "for epoch in range(epochs):\n",
        "  # set the model to training mode\n",
        "  model_0.train() # train mode in pytorch set\n",
        "\n",
        "  # 1. Forward pass\n",
        "  preds = model_0(X_train)\n",
        "\n",
        "  # 2. calculate loss\n",
        "  loss = loss_fn(preds,y_train)\n",
        "\n",
        "  #print(f\"Loss : {loss:.3f}\")\n",
        "\n",
        "  # 3. optimizer zero grad\n",
        "\n",
        "  optim.zero_grad()\n",
        "\n",
        "  # 4 Perform back propagation\n",
        "  loss.backward()\n",
        "\n",
        "  # 5. update parameters of the model\n",
        "  optim.step()\n",
        "\n",
        "\n",
        "  # Testing\n",
        "  model_0.eval() # turns off different settings which are not needed for model evaluation/testing(dropout,batchnorm)\n",
        "\n",
        "  with torch.inference_mode(): # turns of gradient tracking & a couple of more things behind the scenes\n",
        "    # 1. Do Forward pass\n",
        "    test_pred = model_0(X_test)\n",
        "\n",
        "    # 2. calculate the loss\n",
        "    test_loss = loss_fn(test_pred,y_test)\n",
        "\n",
        "  \n",
        "  if epoch % 10 == 0:\n",
        "    epoch_count.append(epoch) \n",
        "    train_loss_values.append(loss)\n",
        "    test_loss_values.append(test_loss)\n",
        "    print(f\"Epoch : {epoch} | Loss : {loss:.3f} | Test Loss : {test_loss:.3f}\")\n",
        "    print(model_0.state_dict())\n",
        "\n"
      ],
      "metadata": {
        "colab": {
          "base_uri": "https://localhost:8080/"
        },
        "id": "GqnL6pni_WpW",
        "outputId": "c58ebee7-4d89-431c-b8f8-c6c3781eaeb7"
      },
      "execution_count": 89,
      "outputs": [
        {
          "output_type": "stream",
          "name": "stdout",
          "text": [
            "Epoch : 0 | Loss : 0.608 | Test Loss : 0.586\n",
            "OrderedDict([('weights', tensor([0.8784])), ('bias', tensor([0.9050]))])\n",
            "Epoch : 10 | Loss : 0.493 | Test Loss : 0.451\n",
            "OrderedDict([('weights', tensor([0.8394])), ('bias', tensor([0.8050]))])\n",
            "Epoch : 20 | Loss : 0.378 | Test Loss : 0.316\n",
            "OrderedDict([('weights', tensor([0.8004])), ('bias', tensor([0.7050]))])\n",
            "Epoch : 30 | Loss : 0.262 | Test Loss : 0.182\n",
            "OrderedDict([('weights', tensor([0.7614])), ('bias', tensor([0.6050]))])\n",
            "Epoch : 40 | Loss : 0.147 | Test Loss : 0.047\n",
            "OrderedDict([('weights', tensor([0.7224])), ('bias', tensor([0.5050]))])\n",
            "Epoch : 50 | Loss : 0.052 | Test Loss : 0.066\n",
            "OrderedDict([('weights', tensor([0.6930])), ('bias', tensor([0.4185]))])\n",
            "Epoch : 60 | Loss : 0.041 | Test Loss : 0.087\n",
            "OrderedDict([('weights', tensor([0.7003])), ('bias', tensor([0.3905]))])\n",
            "Epoch : 70 | Loss : 0.038 | Test Loss : 0.085\n",
            "OrderedDict([('weights', tensor([0.7156])), ('bias', tensor([0.3790]))])\n",
            "Epoch : 80 | Loss : 0.034 | Test Loss : 0.079\n",
            "OrderedDict([('weights', tensor([0.7321])), ('bias', tensor([0.3705]))])\n",
            "Epoch : 90 | Loss : 0.031 | Test Loss : 0.071\n",
            "OrderedDict([('weights', tensor([0.7493])), ('bias', tensor([0.3635]))])\n",
            "Epoch : 100 | Loss : 0.027 | Test Loss : 0.063\n",
            "OrderedDict([('weights', tensor([0.7662])), ('bias', tensor([0.3560]))])\n",
            "Epoch : 110 | Loss : 0.024 | Test Loss : 0.055\n",
            "OrderedDict([('weights', tensor([0.7834])), ('bias', tensor([0.3490]))])\n",
            "Epoch : 120 | Loss : 0.020 | Test Loss : 0.047\n",
            "OrderedDict([('weights', tensor([0.8005])), ('bias', tensor([0.3420]))])\n",
            "Epoch : 130 | Loss : 0.017 | Test Loss : 0.039\n",
            "OrderedDict([('weights', tensor([0.8175])), ('bias', tensor([0.3345]))])\n",
            "Epoch : 140 | Loss : 0.013 | Test Loss : 0.031\n",
            "OrderedDict([('weights', tensor([0.8346])), ('bias', tensor([0.3275]))])\n",
            "Epoch : 150 | Loss : 0.010 | Test Loss : 0.023\n",
            "OrderedDict([('weights', tensor([0.8516])), ('bias', tensor([0.3200]))])\n",
            "Epoch : 160 | Loss : 0.007 | Test Loss : 0.015\n",
            "OrderedDict([('weights', tensor([0.8688])), ('bias', tensor([0.3130]))])\n",
            "Epoch : 170 | Loss : 0.003 | Test Loss : 0.007\n",
            "OrderedDict([('weights', tensor([0.8859])), ('bias', tensor([0.3060]))])\n",
            "Epoch : 180 | Loss : 0.006 | Test Loss : 0.004\n",
            "OrderedDict([('weights', tensor([0.8973])), ('bias', tensor([0.3065]))])\n",
            "Epoch : 190 | Loss : 0.006 | Test Loss : 0.004\n",
            "OrderedDict([('weights', tensor([0.8973])), ('bias', tensor([0.3065]))])\n"
          ]
        }
      ]
    },
    {
      "cell_type": "code",
      "source": [
        "import numpy as np"
      ],
      "metadata": {
        "id": "6ZqkNRqfMtiX"
      },
      "execution_count": 93,
      "outputs": []
    },
    {
      "cell_type": "code",
      "source": [
        "# plot loss curves\n",
        "plt.plot(epoch_count,np.array(torch.tensor(train_loss_values).numpy()),label='train_loss')\n",
        "plt.plot(epoch_count,np.array(torch.tensor(test_loss_values).numpy()),label='test_loss')\n",
        "plt.title(\"Training and testing curves\")\n",
        "plt.ylabel(\"Loss\")\n",
        "plt.xlabel(\"EPoch\")"
      ],
      "metadata": {
        "colab": {
          "base_uri": "https://localhost:8080/",
          "height": 312
        },
        "id": "YysvsmB3L85h",
        "outputId": "28f7bfa7-bb9d-4c76-9e63-c49e56773f37"
      },
      "execution_count": 97,
      "outputs": [
        {
          "output_type": "execute_result",
          "data": {
            "text/plain": [
              "Text(0.5, 0, 'EPoch')"
            ]
          },
          "metadata": {},
          "execution_count": 97
        },
        {
          "output_type": "display_data",
          "data": {
            "text/plain": [
              "<Figure size 432x288 with 1 Axes>"
            ],
            "image/png": "[encoded data removed]"
          },
          "metadata": {
            "needs_background": "light"
          }
        }
      ]
    },
    {
      "cell_type": "code",
      "source": [
        "weight,bias"
      ],
      "metadata": {
        "colab": {
          "base_uri": "https://localhost:8080/"
        },
        "id": "XwUzEUOyHEcv",
        "outputId": "c0702053-0346-4b9f-ee01-85de54732aa4"
      },
      "execution_count": 83,
      "outputs": [
        {
          "output_type": "execute_result",
          "data": {
            "text/plain": [
              "(0.9, 0.3)"
            ]
          },
          "metadata": {},
          "execution_count": 83
        }
      ]
    },
    {
      "cell_type": "code",
      "source": [
        "with torch.inference_mode():\n",
        "  y_preds_new = model_0(X_test)\n",
        "\n",
        "y_preds_new"
      ],
      "metadata": {
        "colab": {
          "base_uri": "https://localhost:8080/"
        },
        "id": "ggkxoZg8G-ED",
        "outputId": "2592143d-4924-4689-cea8-a1ddd0414659"
      },
      "execution_count": 107,
      "outputs": [
        {
          "output_type": "execute_result",
          "data": {
            "text/plain": [
              "tensor([[1.0112],\n",
              "        [1.0291],\n",
              "        [1.0470],\n",
              "        [1.0649],\n",
              "        [1.0827],\n",
              "        [1.1006],\n",
              "        [1.1185],\n",
              "        [1.1363],\n",
              "        [1.1542],\n",
              "        [1.1721]])"
            ]
          },
          "metadata": {},
          "execution_count": 107
        }
      ]
    },
    {
      "cell_type": "code",
      "source": [
        "plot_predictions(predictions=y_pred)"
      ],
      "metadata": {
        "colab": {
          "base_uri": "https://localhost:8080/",
          "height": 428
        },
        "id": "nz8uvNddH5X9",
        "outputId": "20e2ee0c-e4fe-46b8-b00a-61481ed35a9e"
      },
      "execution_count": 90,
      "outputs": [
        {
          "output_type": "display_data",
          "data": {
            "text/plain": [
              "<Figure size 720x504 with 1 Axes>"
            ],
            "image/png": "[encoded data removed]"
          },
          "metadata": {
            "needs_background": "light"
          }
        }
      ]
    },
    {
      "cell_type": "code",
      "source": [
        "plot_predictions(predictions=y_preds_new)"
      ],
      "metadata": {
        "colab": {
          "base_uri": "https://localhost:8080/",
          "height": 428
        },
        "id": "qmB3h1GDH9Ao",
        "outputId": "a70edf75-fcca-43ab-99d9-691030d066f2"
      },
      "execution_count": 108,
      "outputs": [
        {
          "output_type": "display_data",
          "data": {
            "text/plain": [
              "<Figure size 720x504 with 1 Axes>"
            ],
            "image/png": "[encoded data removed]"
          },
          "metadata": {
            "needs_background": "light"
          }
        }
      ]
    },
    {
      "cell_type": "markdown",
      "source": [
        "## Saving a model in pytorch ##\n",
        "\n",
        "There are three main methods you should know about for saving and loading models in pytorch\n",
        "\n",
        "1. `torch.save()` - allows you to save pytorch model in python's pickle format\n",
        "2. `torch.load()` - allows you to load pytorch model\n",
        "3. `torch.nn.Module.load_state_dict()` - this allows a model's saved state dictionary to load"
      ],
      "metadata": {
        "id": "bXH0ew1-N412"
      }
    },
    {
      "cell_type": "code",
      "source": [
        "# saving our pytorch model\n",
        "from pathlib import Path\n",
        "\n",
        "#1. create models directory\n",
        "MODEL_PATH = Path(\"models\")\n",
        "MODEL_PATH.mkdir(parents=True,exist_ok=True)\n",
        "\n",
        "# 2. Create model save path\n",
        "MODEL_NAME ='01_pytorch_workflow_model_0.pth'\n",
        "MODEL_SAVE_PATH = MODEL_PATH / MODEL_NAME\n",
        "\n",
        "print(f\"Saving model to : {MODEL_SAVE_PATH}\")\n",
        "torch.save(model_0.state_dict(),MODEL_SAVE_PATH)"
      ],
      "metadata": {
        "colab": {
          "base_uri": "https://localhost:8080/"
        },
        "id": "JqIPYSf_N6rE",
        "outputId": "47327a44-094b-4eeb-bdd2-0489db8d70ac"
      },
      "execution_count": 100,
      "outputs": [
        {
          "output_type": "stream",
          "name": "stdout",
          "text": [
            "Saving model to : models/01_pytorch_workflow_model_0.pth\n"
          ]
        }
      ]
    },
    {
      "cell_type": "markdown",
      "source": [
        "## Loading a pytorch model\n",
        "Since we saved only state_dict() rather than entire model, we need to create instance of model and then load the state dictionary into that new instance's state dictionary."
      ],
      "metadata": {
        "id": "EiVGPND_Q24S"
      }
    },
    {
      "cell_type": "code",
      "source": [
        "# create new instance of the model\n",
        "new_model = LinearRegressionModel()\n",
        "new_model.state_dict()\n",
        "\n",
        "# load the state dictionary in new instance\n",
        "new_model.load_state_dict(torch.load(MODEL_SAVE_PATH,map_location='cpu'))"
      ],
      "metadata": {
        "colab": {
          "base_uri": "https://localhost:8080/"
        },
        "id": "NVXYvboFRIKu",
        "outputId": "e0afce23-8915-43f1-bf1a-0a4f212f4daa"
      },
      "execution_count": 105,
      "outputs": [
        {
          "output_type": "execute_result",
          "data": {
            "text/plain": [
              "<All keys matched successfully>"
            ]
          },
          "metadata": {},
          "execution_count": 105
        }
      ]
    },
    {
      "cell_type": "code",
      "source": [
        "#make some predictions with loaded model\n",
        "new_model.eval()\n",
        "with torch.inference_mode():\n",
        "  loaded_model_preds = new_model(X_test)\n",
        "\n",
        "y_preds_new == loaded_model_preds"
      ],
      "metadata": {
        "colab": {
          "base_uri": "https://localhost:8080/"
        },
        "id": "ESg5TenhRm78",
        "outputId": "87b7ad07-79c6-4e7b-dbbe-e3d373dec079"
      },
      "execution_count": 109,
      "outputs": [
        {
          "output_type": "execute_result",
          "data": {
            "text/plain": [
              "tensor([[True],\n",
              "        [True],\n",
              "        [True],\n",
              "        [True],\n",
              "        [True],\n",
              "        [True],\n",
              "        [True],\n",
              "        [True],\n",
              "        [True],\n",
              "        [True]])"
            ]
          },
          "metadata": {},
          "execution_count": 109
        }
      ]
    },
    {
      "cell_type": "markdown",
      "source": [
        "## 6. Putting it all together\n"
      ],
      "metadata": {
        "id": "xjjLC4dFSMs9"
      }
    },
    {
      "cell_type": "code",
      "source": [
        "# Import Pytorch and matplotlib\n",
        "import torch\n",
        "import torch.nn as nn\n",
        "import matplotlib.pyplot as plt\n",
        "import numpy as np\n",
        "import pathlib\n",
        "# Check pytorch version\n",
        "torch.__version__"
      ],
      "metadata": {
        "colab": {
          "base_uri": "https://localhost:8080/",
          "height": 36
        },
        "id": "lVDzxxE-SPIm",
        "outputId": "c32b27af-8696-4414-ee56-28008c4f883e"
      },
      "execution_count": 43,
      "outputs": [
        {
          "output_type": "execute_result",
          "data": {
            "text/plain": [
              "'1.12.1+cu113'"
            ],
            "application/vnd.google.colaboratory.intrinsic+json": {
              "type": "string"
            }
          },
          "metadata": {},
          "execution_count": 43
        }
      ]
    },
    {
      "cell_type": "markdown",
      "source": [
        "Create device-agnostic code.\n",
        "\n",
        "This means if we've got access to a GPU, our code will use it(for potentially faster computing).\n",
        "\n",
        "If we dont have then code will use CPU."
      ],
      "metadata": {
        "id": "_ogSeFeexIYP"
      }
    },
    {
      "cell_type": "code",
      "source": [
        "# setup device agnostic code\n",
        "device = 'cuda' if torch.cuda.is_available() else 'cpu'"
      ],
      "metadata": {
        "id": "pSd9sx_zxf5-"
      },
      "execution_count": 14,
      "outputs": []
    },
    {
      "cell_type": "markdown",
      "source": [
        "### 6.1 Data"
      ],
      "metadata": {
        "id": "Ejjt183qSwGu"
      }
    },
    {
      "cell_type": "code",
      "source": [
        "# create some data using the linear regression formula y = weight * X + bias\n",
        "weight = 0.7\n",
        "bias = 0.3\n",
        "\n",
        "# create range values\n",
        "start = 0\n",
        "end = 7\n",
        "step = 0.02\n",
        "\n",
        "X = torch.arange(start,end,step).unsqueeze(dim=1)\n",
        "\n",
        "y = weight * X + bias\n",
        "\n",
        "X[:10],y[:10]\n"
      ],
      "metadata": {
        "colab": {
          "base_uri": "https://localhost:8080/"
        },
        "id": "NDCS35dyyHTE",
        "outputId": "1df6d046-877c-4120-ecaf-0d2ec285adc1"
      },
      "execution_count": 3,
      "outputs": [
        {
          "output_type": "execute_result",
          "data": {
            "text/plain": [
              "(tensor([[0.0000],\n",
              "         [0.0200],\n",
              "         [0.0400],\n",
              "         [0.0600],\n",
              "         [0.0800],\n",
              "         [0.1000],\n",
              "         [0.1200],\n",
              "         [0.1400],\n",
              "         [0.1600],\n",
              "         [0.1800]]), tensor([[0.3000],\n",
              "         [0.3140],\n",
              "         [0.3280],\n",
              "         [0.3420],\n",
              "         [0.3560],\n",
              "         [0.3700],\n",
              "         [0.3840],\n",
              "         [0.3980],\n",
              "         [0.4120],\n",
              "         [0.4260]]))"
            ]
          },
          "metadata": {},
          "execution_count": 3
        }
      ]
    },
    {
      "cell_type": "code",
      "source": [
        "# split data\n",
        "train_split = int(0.8*len(X))\n",
        "X_train,X_test,y_train,y_test = X[:train_split],X[train_split:],y[:train_split],y[train_split:]\n",
        "len(X_train),len(X_test),len(y_train),len(y_test)"
      ],
      "metadata": {
        "colab": {
          "base_uri": "https://localhost:8080/"
        },
        "id": "lbclky5cytvm",
        "outputId": "1f94f52c-3860-42d5-a248-e87d007797ab"
      },
      "execution_count": 4,
      "outputs": [
        {
          "output_type": "execute_result",
          "data": {
            "text/plain": [
              "(280, 70, 280, 70)"
            ]
          },
          "metadata": {},
          "execution_count": 4
        }
      ]
    },
    {
      "cell_type": "code",
      "source": [
        "plot_predictions(train_data=X_train,train_labels=y_train,test_data=X_test,test_labels=y_test)"
      ],
      "metadata": {
        "colab": {
          "base_uri": "https://localhost:8080/",
          "height": 428
        },
        "id": "1jDyLtUXzP_Y",
        "outputId": "29041631-8c51-4aff-b9bd-f38850bae5b2"
      },
      "execution_count": 15,
      "outputs": [
        {
          "output_type": "display_data",
          "data": {
            "text/plain": [
              "<Figure size 720x504 with 1 Axes>"
            ],
            "image/png": "[encoded data removed]"
          },
          "metadata": {
            "needs_background": "light"
          }
        }
      ]
    },
    {
      "cell_type": "markdown",
      "source": [
        "## 6.2 Build Pytorch Linear Model"
      ],
      "metadata": {
        "id": "tCNhzqDL0nFq"
      }
    },
    {
      "cell_type": "code",
      "source": [
        "# create a linear model by subclassing nn.Module class\n",
        "class LinearRegressionModelV2(nn.Module):\n",
        "  def __init__(self):\n",
        "    super().__init__()\n",
        "    # Use nn.Linear for creating a model parameters / also called linear layer, probing layer, dense layer, fully connected layer\n",
        "    self.linear = nn.Linear(1,1,bias=True)\n",
        "  def forward(self,x):\n",
        "    return self.linear(x)"
      ],
      "metadata": {
        "id": "ZWUvcfCk0l7X"
      },
      "execution_count": 48,
      "outputs": []
    },
    {
      "cell_type": "code",
      "source": [
        "torch.manual_seed(42)\n",
        "model_1 = LinearRegressionModelV2()\n",
        "model_1.state_dict()"
      ],
      "metadata": {
        "colab": {
          "base_uri": "https://localhost:8080/"
        },
        "id": "YAzbaAJM_WyS",
        "outputId": "1d0d782e-1729-42b9-b3b4-2b5caa73afd5"
      },
      "execution_count": 33,
      "outputs": [
        {
          "output_type": "execute_result",
          "data": {
            "text/plain": [
              "OrderedDict([('linear.weight', tensor([[0.7645]])),\n",
              "             ('linear.bias', tensor([0.8300]))])"
            ]
          },
          "metadata": {},
          "execution_count": 33
        }
      ]
    },
    {
      "cell_type": "code",
      "source": [
        "# check the model current device\n",
        "next(model_1.parameters()).device"
      ],
      "metadata": {
        "colab": {
          "base_uri": "https://localhost:8080/"
        },
        "id": "20MLYc2BAeMz",
        "outputId": "3ed33ef6-4d31-4ded-8378-3928a44137ee"
      },
      "execution_count": 34,
      "outputs": [
        {
          "output_type": "execute_result",
          "data": {
            "text/plain": [
              "device(type='cpu')"
            ]
          },
          "metadata": {},
          "execution_count": 34
        }
      ]
    },
    {
      "cell_type": "code",
      "source": [
        "# bringing model on cuda\n",
        "model_1.to(device)"
      ],
      "metadata": {
        "colab": {
          "base_uri": "https://localhost:8080/"
        },
        "id": "ClPXg3bcAqhA",
        "outputId": "ef71a6c5-d3c9-4acb-b92a-7d98820adce4"
      },
      "execution_count": 35,
      "outputs": [
        {
          "output_type": "execute_result",
          "data": {
            "text/plain": [
              "LinearRegressionModel(\n",
              "  (linear): Linear(in_features=1, out_features=1, bias=True)\n",
              ")"
            ]
          },
          "metadata": {},
          "execution_count": 35
        }
      ]
    },
    {
      "cell_type": "code",
      "source": [
        "# check the model current device\n",
        "next(model_1.parameters()).device"
      ],
      "metadata": {
        "colab": {
          "base_uri": "https://localhost:8080/"
        },
        "id": "pSvNN1ieAwnr",
        "outputId": "7cdac8f9-1b38-4588-c91a-5f83889543e8"
      },
      "execution_count": 36,
      "outputs": [
        {
          "output_type": "execute_result",
          "data": {
            "text/plain": [
              "device(type='cuda', index=0)"
            ]
          },
          "metadata": {},
          "execution_count": 36
        }
      ]
    },
    {
      "cell_type": "markdown",
      "source": [
        "## 6.3 Training ##\n",
        "\n",
        "For training we need\n",
        "\n",
        ". Loss Function\n",
        ". Optimizer\n",
        ". Training Loop\n",
        ". Testing Loop"
      ],
      "metadata": {
        "id": "sse-6A3CA0n5"
      }
    },
    {
      "cell_type": "code",
      "source": [
        "# setup loss function\n",
        "l1_loss = nn.L1Loss()\n",
        "\n",
        "# setup optimizer\n",
        "optim = torch.optim.SGD(model_1.parameters(),lr=0.01)"
      ],
      "metadata": {
        "id": "Gt4GL3YnAASv"
      },
      "execution_count": 37,
      "outputs": []
    },
    {
      "cell_type": "code",
      "source": [
        "# put data on target device\n",
        "X_train,X_test,y_train,y_test = X_train.to(device),X_test.to(device),y_train.to(device),y_test.to(device)"
      ],
      "metadata": {
        "id": "Dm5jrfLACXie"
      },
      "execution_count": 20,
      "outputs": []
    },
    {
      "cell_type": "code",
      "source": [
        "# setup training loop\n",
        "torch.manual_seed(42)\n",
        "\n",
        "epochs = 200\n",
        "\n",
        "for epoch in range(epochs):\n",
        "\n",
        "  model_1.train()\n",
        "\n",
        "  # 1. Forward pass\n",
        "\n",
        "  y_preds = model_1(X_train)\n",
        "\n",
        "  # 2. calculate loss\n",
        "  loss = l1_loss(y_preds,y_train)\n",
        "\n",
        "  #print(f\"Loss : {loss}\")\n",
        "\n",
        "  # 3. Optimize zero grad\n",
        "  optim.zero_grad()\n",
        "\n",
        "  # 4. Backward propagate loss\n",
        "  loss.backward()\n",
        "\n",
        "  # 5.Update the model parameters\n",
        "  optim.step()\n",
        "\n",
        "  model_1.eval()\n",
        "\n",
        "  with torch.inference_mode():\n",
        "\n",
        "    test_pred = model_1(X_test)\n",
        "\n",
        "    test_loss = l1_loss(test_pred,y_test) \n",
        "\n",
        "  \n",
        "  if epoch % 10 == 0:\n",
        "    print(f'Epoch : {epoch} | Loss : {loss} | Test_loss : {test_loss}')\n",
        "\n",
        "\n",
        "\n"
      ],
      "metadata": {
        "colab": {
          "base_uri": "https://localhost:8080/"
        },
        "id": "G66uPAbiBKPM",
        "outputId": "8ba2df34-974a-4836-cc44-bfaa49fc6939"
      },
      "execution_count": 38,
      "outputs": [
        {
          "output_type": "stream",
          "name": "stdout",
          "text": [
            "Epoch : 0 | Loss : 0.7100704312324524 | Test_loss : 0.7504642605781555\n",
            "Epoch : 10 | Loss : 0.1870928704738617 | Test_loss : 0.2750534117221832\n",
            "Epoch : 20 | Loss : 0.17088958621025085 | Test_loss : 0.2536323666572571\n",
            "Epoch : 30 | Loss : 0.15470224618911743 | Test_loss : 0.22858178615570068\n",
            "Epoch : 40 | Loss : 0.13851198554039001 | Test_loss : 0.2053459733724594\n",
            "Epoch : 50 | Loss : 0.12232505530118942 | Test_loss : 0.1802954226732254\n",
            "Epoch : 60 | Loss : 0.10613441467285156 | Test_loss : 0.15705963969230652\n",
            "Epoch : 70 | Loss : 0.08994747698307037 | Test_loss : 0.1320091038942337\n",
            "Epoch : 80 | Loss : 0.07375729829072952 | Test_loss : 0.10695864260196686\n",
            "Epoch : 90 | Loss : 0.05756980553269386 | Test_loss : 0.0837230235338211\n",
            "Epoch : 100 | Loss : 0.04138011857867241 | Test_loss : 0.05867261812090874\n",
            "Epoch : 110 | Loss : 0.06775056570768356 | Test_loss : 0.032976165413856506\n",
            "Epoch : 120 | Loss : 0.06247802451252937 | Test_loss : 0.0036150729283690453\n",
            "Epoch : 130 | Loss : 0.07011004537343979 | Test_loss : 0.00407808180898428\n",
            "Epoch : 140 | Loss : 0.0672178789973259 | Test_loss : 0.02070162631571293\n",
            "Epoch : 150 | Loss : 0.07350778579711914 | Test_loss : 0.013316181488335133\n",
            "Epoch : 160 | Loss : 0.07632801681756973 | Test_loss : 0.010455404408276081\n",
            "Epoch : 170 | Loss : 0.07759774476289749 | Test_loss : 0.009240415878593922\n",
            "Epoch : 180 | Loss : 0.07817430794239044 | Test_loss : 0.008722509257495403\n",
            "Epoch : 190 | Loss : 0.07852877676486969 | Test_loss : 0.008365495130419731\n"
          ]
        }
      ]
    },
    {
      "cell_type": "code",
      "source": [
        "model_1.state_dict()"
      ],
      "metadata": {
        "colab": {
          "base_uri": "https://localhost:8080/"
        },
        "id": "oBiCQ1IYDMzE",
        "outputId": "7c72d6ad-59a9-45d3-cfc6-70648606cace"
      },
      "execution_count": 40,
      "outputs": [
        {
          "output_type": "execute_result",
          "data": {
            "text/plain": [
              "OrderedDict([('linear.weight', tensor([[0.6718]], device='cuda:0')),\n",
              "             ('linear.bias', tensor([0.2999], device='cuda:0'))])"
            ]
          },
          "metadata": {},
          "execution_count": 40
        }
      ]
    },
    {
      "cell_type": "markdown",
      "source": [
        "## 6.4 Making and evaluating predictions ##"
      ],
      "metadata": {
        "id": "LvJd2qGRDYb9"
      }
    },
    {
      "cell_type": "code",
      "source": [
        "# Turn model into evaluation mode\n",
        "model_1.eval()\n",
        "\n",
        "# Make predictions on  test data\n",
        "with torch.inference_mode():\n",
        "  y_preds = model_1(X_test)\n",
        "\n",
        "y_preds"
      ],
      "metadata": {
        "colab": {
          "base_uri": "https://localhost:8080/"
        },
        "id": "29Q02Cs-DfNq",
        "outputId": "d69f4ba5-0a28-4f1e-cc6f-2c9e1b09577d"
      },
      "execution_count": 41,
      "outputs": [
        {
          "output_type": "execute_result",
          "data": {
            "text/plain": [
              "tensor([[4.0623],\n",
              "        [4.0757],\n",
              "        [4.0892],\n",
              "        [4.1026],\n",
              "        [4.1160],\n",
              "        [4.1295],\n",
              "        [4.1429],\n",
              "        [4.1564],\n",
              "        [4.1698],\n",
              "        [4.1832],\n",
              "        [4.1967],\n",
              "        [4.2101],\n",
              "        [4.2235],\n",
              "        [4.2370],\n",
              "        [4.2504],\n",
              "        [4.2639],\n",
              "        [4.2773],\n",
              "        [4.2907],\n",
              "        [4.3042],\n",
              "        [4.3176],\n",
              "        [4.3310],\n",
              "        [4.3445],\n",
              "        [4.3579],\n",
              "        [4.3713],\n",
              "        [4.3848],\n",
              "        [4.3982],\n",
              "        [4.4117],\n",
              "        [4.4251],\n",
              "        [4.4385],\n",
              "        [4.4520],\n",
              "        [4.4654],\n",
              "        [4.4788],\n",
              "        [4.4923],\n",
              "        [4.5057],\n",
              "        [4.5192],\n",
              "        [4.5326],\n",
              "        [4.5460],\n",
              "        [4.5595],\n",
              "        [4.5729],\n",
              "        [4.5863],\n",
              "        [4.5998],\n",
              "        [4.6132],\n",
              "        [4.6267],\n",
              "        [4.6401],\n",
              "        [4.6535],\n",
              "        [4.6670],\n",
              "        [4.6804],\n",
              "        [4.6938],\n",
              "        [4.7073],\n",
              "        [4.7207],\n",
              "        [4.7341],\n",
              "        [4.7476],\n",
              "        [4.7610],\n",
              "        [4.7745],\n",
              "        [4.7879],\n",
              "        [4.8013],\n",
              "        [4.8148],\n",
              "        [4.8282],\n",
              "        [4.8416],\n",
              "        [4.8551],\n",
              "        [4.8685],\n",
              "        [4.8820],\n",
              "        [4.8954],\n",
              "        [4.9088],\n",
              "        [4.9223],\n",
              "        [4.9357],\n",
              "        [4.9491],\n",
              "        [4.9626],\n",
              "        [4.9760],\n",
              "        [4.9895]], device='cuda:0')"
            ]
          },
          "metadata": {},
          "execution_count": 41
        }
      ]
    },
    {
      "cell_type": "code",
      "source": [
        "# check out our model predictions visually\n",
        "\n",
        "plot_predictions(predictions=y_preds.detach().cpu().numpy())"
      ],
      "metadata": {
        "colab": {
          "base_uri": "https://localhost:8080/",
          "height": 428
        },
        "id": "auSMj8OtDsyQ",
        "outputId": "084b3898-fe8b-4684-8ffc-e569ba2c83af"
      },
      "execution_count": 42,
      "outputs": [
        {
          "output_type": "display_data",
          "data": {
            "text/plain": [
              "<Figure size 720x504 with 1 Axes>"
            ],
            "image/png": "[encoded data removed]"
          },
          "metadata": {
            "needs_background": "light"
          }
        }
      ]
    },
    {
      "cell_type": "markdown",
      "source": [
        "## 6.5 Saving and loading models ##"
      ],
      "metadata": {
        "id": "dFtedDipGkxa"
      }
    },
    {
      "cell_type": "code",
      "source": [
        "\n",
        "# 1. Create Models dictionary\n",
        "MODEL_PATH = pathlib.Path(\"models\")\n",
        "MODEL_PATH.mkdir(parents=True,exist_ok=True)\n",
        "\n",
        "# 2. Create model save path\n",
        "MODEL_NAME = \"01_pytorch_workflow_model_1.pth\"\n",
        "MODEL_SAVE_PATH = MODEL_PATH / MODEL_NAME\n",
        "\n",
        "# 3. Save the model state dict\n",
        "print(f\"Saving model to {MODEL_SAVE_PATH}\")\n",
        "torch.save(model_1.state_dict(),MODEL_SAVE_PATH)\n"
      ],
      "metadata": {
        "colab": {
          "base_uri": "https://localhost:8080/"
        },
        "id": "MUjhghvKGnsE",
        "outputId": "dfce536d-87ac-4daf-be7a-d4f919a8e2a7"
      },
      "execution_count": 46,
      "outputs": [
        {
          "output_type": "stream",
          "name": "stdout",
          "text": [
            "Saving model to models/01_pytorch_workflow_model_1.pth\n"
          ]
        }
      ]
    },
    {
      "cell_type": "code",
      "source": [
        "# Load pytorch model\n",
        "loaded_model_1 = torch.load(MODEL_SAVE_PATH,map_location=device)\n",
        "\n",
        "# create new model\n",
        "new_model_1 = LinearRegressionModelV2()\n",
        "\n",
        "# load new model with saved parameters\n",
        "new_model_1.load_state_dict(loaded_model_1)\n",
        "\n"
      ],
      "metadata": {
        "colab": {
          "base_uri": "https://localhost:8080/"
        },
        "id": "BozvWMU6Hs-y",
        "outputId": "04c2d4bc-9409-4830-8f00-d04136ff8941"
      },
      "execution_count": 47,
      "outputs": [
        {
          "output_type": "execute_result",
          "data": {
            "text/plain": [
              "<All keys matched successfully>"
            ]
          },
          "metadata": {},
          "execution_count": 47
        }
      ]
    },
    {
      "cell_type": "code",
      "source": [
        "new_model_1.to(device) \n"
      ],
      "metadata": {
        "colab": {
          "base_uri": "https://localhost:8080/"
        },
        "id": "GY0-GpYWISwu",
        "outputId": "1e3e2171-153e-4689-e004-f0506004ef4e"
      },
      "execution_count": 51,
      "outputs": [
        {
          "output_type": "execute_result",
          "data": {
            "text/plain": [
              "LinearRegressionModel(\n",
              "  (linear): Linear(in_features=1, out_features=1, bias=True)\n",
              ")"
            ]
          },
          "metadata": {},
          "execution_count": 51
        }
      ]
    },
    {
      "cell_type": "code",
      "source": [
        "# evaluate model\n",
        "new_model_1.eval()\n",
        "with torch.inference_mode():\n",
        "\n",
        "  test_pred_new = new_model_1(X_test) \n",
        "\n",
        "test_pred_new == test_pred"
      ],
      "metadata": {
        "colab": {
          "base_uri": "https://localhost:8080/"
        },
        "id": "Y0QS1CttIeCx",
        "outputId": "10f6af87-45a0-4514-dc64-e40e4da6ba21"
      },
      "execution_count": 52,
      "outputs": [
        {
          "output_type": "execute_result",
          "data": {
            "text/plain": [
              "tensor([[True],\n",
              "        [True],\n",
              "        [True],\n",
              "        [True],\n",
              "        [True],\n",
              "        [True],\n",
              "        [True],\n",
              "        [True],\n",
              "        [True],\n",
              "        [True],\n",
              "        [True],\n",
              "        [True],\n",
              "        [True],\n",
              "        [True],\n",
              "        [True],\n",
              "        [True],\n",
              "        [True],\n",
              "        [True],\n",
              "        [True],\n",
              "        [True],\n",
              "        [True],\n",
              "        [True],\n",
              "        [True],\n",
              "        [True],\n",
              "        [True],\n",
              "        [True],\n",
              "        [True],\n",
              "        [True],\n",
              "        [True],\n",
              "        [True],\n",
              "        [True],\n",
              "        [True],\n",
              "        [True],\n",
              "        [True],\n",
              "        [True],\n",
              "        [True],\n",
              "        [True],\n",
              "        [True],\n",
              "        [True],\n",
              "        [True],\n",
              "        [True],\n",
              "        [True],\n",
              "        [True],\n",
              "        [True],\n",
              "        [True],\n",
              "        [True],\n",
              "        [True],\n",
              "        [True],\n",
              "        [True],\n",
              "        [True],\n",
              "        [True],\n",
              "        [True],\n",
              "        [True],\n",
              "        [True],\n",
              "        [True],\n",
              "        [True],\n",
              "        [True],\n",
              "        [True],\n",
              "        [True],\n",
              "        [True],\n",
              "        [True],\n",
              "        [True],\n",
              "        [True],\n",
              "        [True],\n",
              "        [True],\n",
              "        [True],\n",
              "        [True],\n",
              "        [True],\n",
              "        [True],\n",
              "        [True]], device='cuda:0')"
            ]
          },
          "metadata": {},
          "execution_count": 52
        }
      ]
    }
  ]
}