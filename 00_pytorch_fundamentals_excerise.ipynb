{
  "nbformat": 4,
  "nbformat_minor": 0,
  "metadata": {
    "colab": {
      "name": "00_pytorch_fundamentals_excerise.ipynb",
      "provenance": []
    },
    "kernelspec": {
      "name": "python3",
      "display_name": "Python 3"
    },
    "language_info": {
      "name": "python"
    },
    "accelerator": "GPU",
    "gpuClass": "standard"
  },
  "cells": [
    {
      "cell_type": "markdown",
      "source": [
        "<h1> 00. PyTorch Fundamentals Exercises </h1>\n",
        "\n",
        "<h2><b>1. Documentation reading </b> </h2>\n",
        "\n",
        "A big part of deep learning (and learning to code in general) is getting familiar with the documentation of a certain framework you're using. We'll be using the PyTorch documentation a lot throughout the rest of this course. So I'd recommend spending 10-minutes reading the following (it's okay if you don't get some things for now, the focus is not yet full understanding, it's awareness):\n",
        "\n",
        "The documentation on torch.Tensor.\n",
        "The documentation on torch.cuda."
      ],
      "metadata": {
        "id": "NrlNW7NNa_xp"
      }
    },
    {
      "cell_type": "code",
      "source": [
        "import torch"
      ],
      "metadata": {
        "id": "NsRblTIWcFAP"
      },
      "execution_count": null,
      "outputs": []
    },
    {
      "cell_type": "markdown",
      "source": [
        "<h2> 2. Create a random tensor with shape (7, 7). </h2>"
      ],
      "metadata": {
        "id": "mWyqkj-qbuI3"
      }
    },
    {
      "cell_type": "code",
      "execution_count": null,
      "metadata": {
        "colab": {
          "base_uri": "https://localhost:8080/"
        },
        "id": "JGILHFD1YqQd",
        "outputId": "a682cffc-6d1d-4d71-ccdf-09322e093a59"
      },
      "outputs": [
        {
          "output_type": "execute_result",
          "data": {
            "text/plain": [
              "tensor([[0.8602, 0.0112, 0.9192, 0.5726, 0.5572, 0.7392, 0.2763],\n",
              "        [0.7506, 0.7426, 0.9958, 0.5213, 0.0484, 0.4747, 0.5653],\n",
              "        [0.3938, 0.0699, 0.2018, 0.9089, 0.5309, 0.8387, 0.8047],\n",
              "        [0.4663, 0.0817, 0.5603, 0.9848, 0.8614, 0.3307, 0.3276],\n",
              "        [0.6226, 0.7743, 0.4891, 0.9436, 0.9290, 0.5744, 0.8451],\n",
              "        [0.1576, 0.4336, 0.9015, 0.5216, 0.5608, 0.7946, 0.4579],\n",
              "        [0.2292, 0.5597, 0.3819, 0.3775, 0.0336, 0.9545, 0.4221]])"
            ]
          },
          "metadata": {},
          "execution_count": 4
        }
      ],
      "source": [
        "random_tensor = torch.rand(7,7)\n",
        "random_tensor"
      ]
    },
    {
      "cell_type": "markdown",
      "source": [
        "## 3. Perform a matrix multiplication on the tensor from 2 with another random tensor with shape (1, 7) (hint: you may have to transpose the second tensor). ##"
      ],
      "metadata": {
        "id": "Juchjl0ZcLvy"
      }
    },
    {
      "cell_type": "code",
      "source": [
        "tensor_2 = torch.rand(1,7)\n",
        "\n",
        "result = random_tensor @ tensor_2.T"
      ],
      "metadata": {
        "id": "i1xvjeKicOAq"
      },
      "execution_count": null,
      "outputs": []
    },
    {
      "cell_type": "markdown",
      "source": [
        "## 4. Set the random seed to 0 and do 2 & 3 over again. ##"
      ],
      "metadata": {
        "id": "NT6eMVYocb0l"
      }
    },
    {
      "cell_type": "code",
      "source": [
        "torch.manual_seed(42)\n",
        "random_tensor = torch.rand(7,7)\n",
        "\n",
        "tensor_2 = torch.rand(1,7)\n",
        "\n",
        "result = random_tensor @ tensor_2.T\n",
        "\n",
        "print(result,random_tensor,tensor_2)\n"
      ],
      "metadata": {
        "colab": {
          "base_uri": "https://localhost:8080/"
        },
        "id": "kLI1cLdDcdBc",
        "outputId": "f92c4383-b7aa-44da-8a8e-cd160602a5d5"
      },
      "execution_count": null,
      "outputs": [
        {
          "output_type": "stream",
          "name": "stdout",
          "text": [
            "tensor([[1.3299],\n",
            "        [1.8111],\n",
            "        [1.3228],\n",
            "        [0.9725],\n",
            "        [1.8285],\n",
            "        [1.4806],\n",
            "        [2.0489]]) tensor([[0.8823, 0.9150, 0.3829, 0.9593, 0.3904, 0.6009, 0.2566],\n",
            "        [0.7936, 0.9408, 0.1332, 0.9346, 0.5936, 0.8694, 0.5677],\n",
            "        [0.7411, 0.4294, 0.8854, 0.5739, 0.2666, 0.6274, 0.2696],\n",
            "        [0.4414, 0.2969, 0.8317, 0.1053, 0.2695, 0.3588, 0.1994],\n",
            "        [0.5472, 0.0062, 0.9516, 0.0753, 0.8860, 0.5832, 0.3376],\n",
            "        [0.8090, 0.5779, 0.9040, 0.5547, 0.3423, 0.6343, 0.3644],\n",
            "        [0.7104, 0.9464, 0.7890, 0.2814, 0.7886, 0.5895, 0.7539]]) tensor([[0.1952, 0.0050, 0.3068, 0.1165, 0.9103, 0.6440, 0.7071]])\n"
          ]
        }
      ]
    },
    {
      "cell_type": "markdown",
      "source": [
        "## 5. Speaking of random seeds, we saw how to set it with torch.manual_seed() but is there a GPU equivalent? (hint: you'll need to look into the documentation for torch.cuda for this one)"
      ],
      "metadata": {
        "id": "OoB6lKyOeHvN"
      }
    },
    {
      "cell_type": "code",
      "source": [
        "\n",
        "torch.cuda.manual_seed(42)\n",
        "\n",
        "\n",
        "\n"
      ],
      "metadata": {
        "id": "SgttvHn5eJf_"
      },
      "execution_count": null,
      "outputs": []
    },
    {
      "cell_type": "markdown",
      "source": [
        "## 6. Create two random tensors of shape (2, 3) and send them both to the GPU (you'll need access to a GPU for this). Set torch.manual_seed(1234) when creating the tensors (this doesn't have to be the GPU random seed)."
      ],
      "metadata": {
        "id": "Tc34MvLKfQGo"
      }
    },
    {
      "cell_type": "code",
      "source": [
        "device = 'cuda' if torch.cuda.is_available() else 'cpu'\n",
        "\n",
        "torch.manual_seed(1234)\n",
        "tensor_1 = torch.rand((2,3))\n",
        "tensor_2 = torch.rand((2,3))\n",
        "\n",
        "tensor_1 = tensor_1.to(device)\n",
        "tensor_2 = tensor_2.to(device)\n",
        "\n",
        "print(tensor_1,tensor_2)"
      ],
      "metadata": {
        "colab": {
          "base_uri": "https://localhost:8080/"
        },
        "id": "qY_4ZO4YfNay",
        "outputId": "45669247-9882-4228-de10-5ea1689d943a"
      },
      "execution_count": null,
      "outputs": [
        {
          "output_type": "stream",
          "name": "stdout",
          "text": [
            "tensor([[0.0290, 0.4019, 0.2598],\n",
            "        [0.3666, 0.0583, 0.7006]], device='cuda:0') tensor([[0.0518, 0.4681, 0.6738],\n",
            "        [0.3315, 0.7837, 0.5631]], device='cuda:0')\n"
          ]
        }
      ]
    },
    {
      "cell_type": "markdown",
      "source": [
        "## 7. Perform a matrix multiplication on the tensors you created in 6 (again, you may have to adjust the shapes of one of the tensors). ##"
      ],
      "metadata": {
        "id": "cCp8FFNbfzdW"
      }
    },
    {
      "cell_type": "code",
      "source": [
        "result = tensor_1 @ tensor_2.T\n",
        "print(result,result.shape)"
      ],
      "metadata": {
        "colab": {
          "base_uri": "https://localhost:8080/"
        },
        "id": "Z-Fcjc7vf15H",
        "outputId": "a7325887-0576-4adb-d4b3-e0f5bb3b4b7c"
      },
      "execution_count": null,
      "outputs": [
        {
          "output_type": "stream",
          "name": "stdout",
          "text": [
            "tensor([[0.3647, 0.4709],\n",
            "        [0.5184, 0.5617]], device='cuda:0') torch.Size([2, 2])\n"
          ]
        }
      ]
    },
    {
      "cell_type": "markdown",
      "source": [
        "## 8. Find the maximum and minimum values of the output of 7. ##"
      ],
      "metadata": {
        "id": "2DhMYgupgRL9"
      }
    },
    {
      "cell_type": "code",
      "source": [
        "print(result.max(),result.min())"
      ],
      "metadata": {
        "colab": {
          "base_uri": "https://localhost:8080/"
        },
        "id": "1OqGWrn-gSPO",
        "outputId": "1878f8dd-5668-41dd-91c7-0db9fb8c397b"
      },
      "execution_count": null,
      "outputs": [
        {
          "output_type": "stream",
          "name": "stdout",
          "text": [
            "tensor(0.5617, device='cuda:0') tensor(0.3647, device='cuda:0')\n"
          ]
        }
      ]
    },
    {
      "cell_type": "markdown",
      "source": [
        "## 9. Find the maximum and minimum index values of the output of 7. ##"
      ],
      "metadata": {
        "id": "XzSbZZl4gagB"
      }
    },
    {
      "cell_type": "code",
      "source": [
        "print(torch.argmax(result),torch.argmin(result))"
      ],
      "metadata": {
        "colab": {
          "base_uri": "https://localhost:8080/"
        },
        "id": "i4QsNsAHgbvV",
        "outputId": "e9a98bd9-517d-404c-dce9-15f614f829d8"
      },
      "execution_count": null,
      "outputs": [
        {
          "output_type": "stream",
          "name": "stdout",
          "text": [
            "tensor(3, device='cuda:0') tensor(0, device='cuda:0')\n"
          ]
        }
      ]
    },
    {
      "cell_type": "markdown",
      "source": [
        "## 10. Make a random tensor with shape (1, 1, 1, 10) and then create a new tensor with all the 1 dimensions removed to be left with a tensor of shape (10). Set the seed to 7 when you create it and print out the first tensor and it's shape as well as the second tensor and it's shape. ##"
      ],
      "metadata": {
        "id": "wmsWUlGygyvv"
      }
    },
    {
      "cell_type": "code",
      "source": [
        "torch.manual_seed(7)\n",
        "\n",
        "\n",
        "tensor = torch.rand(1,1,1,10)\n",
        "\n",
        "print(tensor,tensor.shape)\n",
        "new_tensor = torch.squeeze(tensor,dim=0).squeeze(dim=0).squeeze(dim=0)\n",
        "\n",
        "print(new_tensor,new_tensor.shape)"
      ],
      "metadata": {
        "colab": {
          "base_uri": "https://localhost:8080/"
        },
        "id": "B0Umb3JNg0iu",
        "outputId": "93383f72-b7e8-4b90-a4b2-7a27a8c7773d"
      },
      "execution_count": null,
      "outputs": [
        {
          "output_type": "stream",
          "name": "stdout",
          "text": [
            "tensor([[[[0.5349, 0.1988, 0.6592, 0.6569, 0.2328, 0.4251, 0.2071, 0.6297,\n",
            "           0.3653, 0.8513]]]]) torch.Size([1, 1, 1, 10])\n",
            "tensor([0.5349, 0.1988, 0.6592, 0.6569, 0.2328, 0.4251, 0.2071, 0.6297, 0.3653,\n",
            "        0.8513]) torch.Size([10])\n"
          ]
        }
      ]
    }
  ]
}